{
 "cells": [
  {
   "cell_type": "code",
   "execution_count": 1,
   "id": "8a29cf7c",
   "metadata": {},
   "outputs": [],
   "source": [
    "# Import libraries\n",
    "import os\n",
    "import csv\n",
    "import pandas as pd\n",
    "# set resource\n",
    "Election = os.path.join('..', \"PyPoll\", \"Resources\", \"Election_data.csv\")\n"
   ]
  },
  {
   "cell_type": "code",
   "execution_count": 2,
   "id": "1f95f29e",
   "metadata": {},
   "outputs": [],
   "source": [
    "# Load csv file \n",
    "with open(Election, mode='r', encoding='utf-8') as csvfile:\n",
    "    csvreader = csv.reader(csvfile, delimiter=',')\n",
    "    header = next(csvreader)\n",
    "    df = pd.read_csv(Election) #Convert csv in dataframe\n",
    "    Universe = len(df) # Get number of lines in dataframe (number of months)"
   ]
  },
  {
   "cell_type": "code",
   "execution_count": 3,
   "id": "125d40e3",
   "metadata": {},
   "outputs": [
    {
     "name": "stdout",
     "output_type": "stream",
     "text": [
      "Diana DeGette              73.812248\n",
      "Charles Casper Stockham    23.048543\n",
      "Raymon Anthony Doane        3.139209\n",
      "Name: Candidate, dtype: float64\n"
     ]
    }
   ],
   "source": [
    "Candidates = df['Candidate'].unique() #Get candidates names\n",
    "CandidatesV = df['Candidate'].value_counts() #Get candidates total votes\n",
    "PctVotes = (CandidatesV/Universe)*100 #Get percent of votes \n",
    "Winner = CandidatesV.idxmax() #Get winner's name\n",
    "print(PctVotes)"
   ]
  },
  {
   "cell_type": "code",
   "execution_count": 4,
   "id": "ca022942",
   "metadata": {},
   "outputs": [
    {
     "name": "stdout",
     "output_type": "stream",
     "text": [
      "Election Results\n",
      "----------------------------\n",
      "Total Votes: 369711\n",
      "----------------------------\n",
      "Diana DeGette: 73.812% (272892)\n",
      "Charles Casper Stockham: 23.049% (85213)\n",
      "Raymon Anthony Doane: 3.139% (11606)\n",
      "----------------------------\n",
      "Winner: Diana DeGette\n",
      "----------------------------\n"
     ]
    }
   ],
   "source": [
    "results = [] #Put results in a list\n",
    "  # Print the results to terminal\n",
    "results.append(\"Election Results\")\n",
    "results.append(\"----------------------------\")\n",
    "results.append(f\"Total Votes: {Universe:}\")\n",
    "results.append(\"----------------------------\")\n",
    "for Candidates in CandidatesV.index:\n",
    "    votes = CandidatesV[Candidates]\n",
    "    percentage = PctVotes[Candidates]\n",
    "    results.append(f\"{Candidates}: {percentage:.3f}% ({votes})\")\n",
    "results.append(\"----------------------------\")\n",
    "results.append(f\"Winner: {Winner}\")\n",
    "results.append(\"----------------------------\")\n",
    "for line in results: #Print Results\n",
    "    print(line)\n",
    "\n",
    "output_file_path = 'election_results.txt' #Write Results in a txt file\n",
    "with open(output_file_path, 'w') as file:\n",
    "    for line in results:\n",
    "        file.write(line + '\\n')\n",
    "\n"
   ]
  }
 ],
 "metadata": {
  "kernelspec": {
   "display_name": "Python 3",
   "language": "python",
   "name": "python3"
  },
  "language_info": {
   "codemirror_mode": {
    "name": "ipython",
    "version": 3
   },
   "file_extension": ".py",
   "mimetype": "text/x-python",
   "name": "python",
   "nbconvert_exporter": "python",
   "pygments_lexer": "ipython3",
   "version": "3.8.8"
  }
 },
 "nbformat": 4,
 "nbformat_minor": 5
}
