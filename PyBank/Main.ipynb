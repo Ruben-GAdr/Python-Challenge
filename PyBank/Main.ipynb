{
 "cells": [
  {
   "cell_type": "code",
   "execution_count": 1,
   "id": "8d839a0d",
   "metadata": {},
   "outputs": [
    {
     "name": "stdout",
     "output_type": "stream",
     "text": [
      "Financial Analysis\n",
      "--------------------------------------------\n",
      "Total months:  86\n",
      "Total:  $22564198\n",
      "Average Change:  $-8311.11\n",
      "Greatest Increase in Profits: Aug-16 ($1862002)\n",
      "Greatest Decrease in Profits: Feb-14 ($-1825558)\n"
     ]
    }
   ],
   "source": [
    "import os\n",
    "import csv\n",
    "import pandas as pd\n",
    "\n",
    "Budget_csv = os.path.join('..', \"Pybank\", \"Resources\", \"budget_data.csv\")\n",
    "\n",
    "profits_losses = []\n",
    "\n",
    "with open(Budget_csv, mode='r', encoding='utf-8') as csvfile:\n",
    "    csvreader = csv.reader(csvfile, delimiter=',')\n",
    "    header = next(csvreader)\n",
    "    df = pd.read_csv(Budget_csv) #Convert csv in dataframe\n",
    "    Total_P = len(df) # Get number of lines in dataframe (number of months)\n",
    "    for row in csvreader:\n",
    "        profits_losses.append(int(row[1])) #Create a list of changes between months\n",
    "\n",
    "Total_Amount = \"${:.0f}\".format(sum(profits_losses)) # Get the total of Profit-Losses in database\n",
    "monthly_chg = [profits_losses[i] - profits_losses[i - 1] for i in range(1, len(profits_losses))] # Get the list of Profit-Losses changes in database\n",
    "avg_chg = sum(monthly_chg) / len(monthly_chg) # Get the mean of Profit-Losses in database\n",
    "\n",
    "max_change = max(monthly_chg) #Get max and min changes between periods in the database  \n",
    "min_change = min(monthly_chg)\n",
    "\n",
    "max_chg_idx = monthly_chg.index(max_change) + 1 #Get max and min changes index in the changes (P&L) list\n",
    "min_chg_idx = monthly_chg.index(min_change) + 1\n",
    "\n",
    "max_chg_period = df.loc[max_chg_idx, 'Date'] #Get period name of max/min changes\n",
    "min_chg_period = df.loc[min_chg_idx, 'Date']\n",
    "\n",
    "# Print resutls\n",
    "print(\"Financial Analysis\")    \n",
    "print(\"--------------------------------------------\")\n",
    "print(\"Total months: \", Total_P)\n",
    "print(\"Total: \", Total_Amount)\n",
    "print(\"Average Change: \", \"${:.2f}\".format(avg_chg))\n",
    "print(f'Greatest Increase in Profits: {max_chg_period} (${max_change})')\n",
    "print(f'Greatest Decrease in Profits: {min_chg_period} (${min_change})')\n",
    "\n",
    "#Write results to a txt file\n",
    "with open(\"Financial Analysis.txt\", \"w\") as file:\n",
    "    file.write(\"Financial Analysis\\n\")\n",
    "    file.write(\"....................................................................................\\n\")\n",
    "    file.write(\"Total months: \" + str(Total_P) + \"\\n\")\n",
    "    file.write(\"Total: \" + Total_Amount + \"\\n\")\n",
    "    file.write(\"Average change: \" + \"${:.2f}\".format(avg_chg) + \"\\n\")\n",
    "    file.write(f\"Greatest Increase in Profits:   {max_chg_period}  (${max_change})\\n\" )\n",
    "    file.write(f\"Greatest Decrease in Profits:   {min_chg_period}  (${min_change})\\n\" )"
   ]
  }
 ],
 "metadata": {
  "kernelspec": {
   "display_name": "Python 3",
   "language": "python",
   "name": "python3"
  },
  "language_info": {
   "codemirror_mode": {
    "name": "ipython",
    "version": 3
   },
   "file_extension": ".py",
   "mimetype": "text/x-python",
   "name": "python",
   "nbconvert_exporter": "python",
   "pygments_lexer": "ipython3",
   "version": "3.8.8"
  }
 },
 "nbformat": 4,
 "nbformat_minor": 5
}
